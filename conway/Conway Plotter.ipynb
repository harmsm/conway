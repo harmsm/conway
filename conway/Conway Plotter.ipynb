{
 "cells": [
  {
   "cell_type": "code",
   "execution_count": 2,
   "metadata": {
    "collapsed": true
   },
   "outputs": [],
   "source": [
    "%matplotlib inline\n",
    "from IPython import display\n",
    "\n",
    "import matplotlib\n",
    "from matplotlib import cm\n",
    "from matplotlib import pyplot as plt"
   ]
  },
  {
   "cell_type": "code",
   "execution_count": 4,
   "metadata": {
    "collapsed": false,
    "scrolled": false
   },
   "outputs": [
    {
     "data": {
      "image/png": "[encoded data removed]",
      "text/plain": [
       "<matplotlib.figure.Figure at 0x7f810bc1cf60>"
      ]
     },
     "metadata": {},
     "output_type": "display_data"
    }
   ],
   "source": [
    "import time\n",
    "import conway\n",
    "\n",
    "view_one = {\"cmap\":cm.copper,\n",
    "            \"history_length\":100,\n",
    "            \"flip\":False}\n",
    "\n",
    "view_two = {\"cmap\":cm.viridis,\n",
    "            \"history_length\":100,\n",
    "            \"flip\":False}\n",
    "\n",
    "view_three = {\"cmap\":cm.gray,\n",
    "              \"history_length\":10,\n",
    "              \"flip\":False}\n",
    "\n",
    "\n",
    "c = conway.Conway(x_size=64,y_size=64,starting_density=0.2)\n",
    "#c.write_state_file(\"beautiful-2000-iteration_history-50.txt\")\n",
    "\n",
    "\n",
    "def x(burn_in=100):\n",
    "    \n",
    "    # Burn in\n",
    "    for i in range(burn_in):\n",
    "        c.iterate()\n",
    "\n",
    "    for i in range(1000):\n",
    "        c.iterate()\n",
    "    \n",
    "        display.clear_output(wait=True)\n",
    "        z = c.as_rgba(**view_one)\n",
    "        #plt.show()\n",
    "    \n",
    "        display.display()\n",
    "    \n",
    "        time.sleep(0.1)\n",
    "    \n",
    "\n",
    "    \n",
    "x()\n",
    "\n",
    "#print(c.as_rgba(cmap=cm.gray))\n",
    "\n",
    "\n"
   ]
  },
  {
   "cell_type": "code",
   "execution_count": null,
   "metadata": {
    "collapsed": true
   },
   "outputs": [],
   "source": []
  },
  {
   "cell_type": "code",
   "execution_count": 13,
   "metadata": {
    "collapsed": true
   },
   "outputs": [],
   "source": [
    "\n",
    "\"\"\"\n",
    "\n",
    "\n",
    "def plot_state(c,cmap=\"copper\",history_length=10,flip=False,imshow=False):\n",
    "\n",
    "    \n",
    "    # Put each pixel on a 0-1 scale capturing its state ranging from \n",
    "    # alive to previously alive to dead\n",
    "    to_plot = np.zeros(c.current_state.shape,dtype=np.float)\n",
    "    to_plot[c.current_state] = 1.0\n",
    "    step = 1.0/(history_length + 2)\n",
    "    for i in range(history_length):\n",
    "        to_plot[c.time_since_alive == i] = 1 - (i + 1)*step\n",
    "    \n",
    "    # Flip color scale if requested\n",
    "    if flip:\n",
    "        to_plot = 1 - to_plot\n",
    "\n",
    "    # Put on 0-254 scale\n",
    "    to_plot = to_plot*254\n",
    "    \n",
    "    # Actually plot it\n",
    "    if imshow:\n",
    "        plt.imshow(to_plot,interpolation=\"nearest\",cmap=cmap)\n",
    "        plt.show()\n",
    "    \n",
    "    # Return RGB color map\n",
    "    if type(cmap) == matplotlib.colors.LinearSegmentedColormap:\n",
    "        return cmap(to_plot)\n",
    "    \n",
    "    return None\n",
    "\"\"\"\n",
    "    \n",
    "    "
   ]
  },
  {
   "cell_type": "code",
   "execution_count": 7,
   "metadata": {
    "collapsed": true
   },
   "outputs": [],
   "source": [
    "#c.write_state_file(\"beautiful-2000-iteration_history-50.txt\")"
   ]
  }
 ],
 "metadata": {
  "kernelspec": {
   "display_name": "Python 3",
   "language": "python",
   "name": "python3"
  }
 },
 "nbformat": 4,
 "nbformat_minor": 0
}
