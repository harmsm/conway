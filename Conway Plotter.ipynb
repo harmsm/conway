{
 "cells": [
  {
   "cell_type": "code",
   "execution_count": 4,
   "metadata": {
    "collapsed": true
   },
   "outputs": [],
   "source": [
    "import numpy as np\n",
    "import matplotlib\n",
    "from matplotlib import pyplot as plt\n",
    "%matplotlib inline\n",
    "\n",
    "from IPython import display\n",
    "\n",
    "import time"
   ]
  },
  {
   "cell_type": "code",
   "execution_count": 5,
   "metadata": {
    "collapsed": true
   },
   "outputs": [],
   "source": [
    "\n",
    "def plot_state(c,colors=(\"white\",\"red\")):\n",
    "    \"\"\"\n",
    "    Plot a state from Conway's Game of Life.\n",
    "    \"\"\"\n",
    "    \n",
    "    for i in range(c.dimensions[0]):\n",
    "        for j in range(c.dimensions[1]):\n",
    "            plt.plot(i,j,'o',color=colors[int(c.state[i,j])])\n",
    "\n",
    "    plt.show()\n"
   ]
  },
  {
   "cell_type": "code",
   "execution_count": null,
   "metadata": {
    "collapsed": false
   },
   "outputs": [
    {
     "data": {
      "image/png": "[encoded data removed]",
      "text/plain": [
       "<matplotlib.figure.Figure at 0x7fd93b146908>"
      ]
     },
     "metadata": {},
     "output_type": "display_data"
    }
   ],
   "source": [
    "import conway\n",
    "c = conway.Conway(starting_density=0.5)\n",
    "plot_state(c)\n",
    "\n",
    "for i in range(100):\n",
    "    c.iterate()\n",
    "    \n",
    "    display.clear_output(wait=True)\n",
    "    plot_state(c)\n",
    "    \n",
    "    #display.display()\n",
    "    \n",
    "    time.sleep(0.1)\n",
    "    "
   ]
  },
  {
   "cell_type": "code",
   "execution_count": null,
   "metadata": {
    "collapsed": true
   },
   "outputs": [],
   "source": []
  }
 ],
 "metadata": {
  "kernelspec": {
   "display_name": "Python 3",
   "language": "python",
   "name": "python3"
  },
  "language_info": {
   "codemirror_mode": {
    "name": "ipython",
    "version": 3
   },
   "file_extension": ".py",
   "mimetype": "text/x-python",
   "name": "python",
   "nbconvert_exporter": "python",
   "pygments_lexer": "ipython3",
   "version": "3.4.3+"
  }
 },
 "nbformat": 4,
 "nbformat_minor": 0
}
