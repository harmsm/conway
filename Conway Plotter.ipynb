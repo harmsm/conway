{
 "cells": [
  {
   "cell_type": "code",
   "execution_count": 1,
   "metadata": {
    "collapsed": true
   },
   "outputs": [],
   "source": [
    "import numpy as np\n",
    "import matplotlib\n",
    "from matplotlib import pyplot as plt\n",
    "%matplotlib inline\n",
    "\n",
    "from IPython import display\n",
    "\n",
    "import time"
   ]
  },
  {
   "cell_type": "code",
   "execution_count": 2,
   "metadata": {
    "collapsed": true
   },
   "outputs": [],
   "source": [
    "\n",
    "def plot_state(c):\n",
    "    \"\"\"\n",
    "    Plot a state from Conway's Game of Life.\n",
    "    \"\"\"\n",
    "    \n",
    "    #plt.imshow(c.current_state==True,interpolation=\"nearest\") #,colors=colors[int(c.state)])\n",
    "        \n",
    "    #to_plot = np.ones(c.current_state.shape,dtype=np.float)\n",
    "    #to_plot[c.current_state] = 1.0\n",
    "    #to_plot[c.time_since_alive > 0] = 0.5\n",
    "    \n",
    "    to_plot = c.current_state\n",
    "    \n",
    "    plt.imshow(to_plot,interpolation=\"nearest\",cmap=\"gray\")\n",
    "    plt.show()\n"
   ]
  },
  {
   "cell_type": "code",
   "execution_count": 20,
   "metadata": {
    "collapsed": false,
    "scrolled": false
   },
   "outputs": [
    {
     "data": {
      "image/png": "[encoded data removed]",
      "text/plain": [
       "<matplotlib.figure.Figure at 0x7fe30a9352e8>"
      ]
     },
     "metadata": {},
     "output_type": "display_data"
    }
   ],
   "source": [
    "import conway\n",
    "#c = conway.Conway(x_size=64,y_size=64,starting_density=0.5)\n",
    "\n",
    "c = conway.Conway(state_file=\"patterns/oscillators/blinker.0\")\n",
    "plot_state(c)\n",
    "\n"
   ]
  },
  {
   "cell_type": "code",
   "execution_count": 22,
   "metadata": {
    "collapsed": false,
    "scrolled": false
   },
   "outputs": [
    {
     "data": {
      "image/png": "[encoded data removed]",
      "text/plain": [
       "<matplotlib.figure.Figure at 0x7fe30a8a6b38>"
      ]
     },
     "metadata": {},
     "output_type": "display_data"
    }
   ],
   "source": [
    "plot_state(c)\n",
    "\n",
    "for i in range(10):\n",
    "    #c.iterate_slowly()\n",
    "    c.iterate()\n",
    "    \n",
    "    display.clear_output(wait=True)\n",
    "    #time.sleep(0.1)\n",
    "    plot_state(c)\n",
    "    \n",
    "    display.display()\n",
    "    \n",
    "    time.sleep(0.3)\n",
    "\n",
    "    "
   ]
  },
  {
   "cell_type": "code",
   "execution_count": 27,
   "metadata": {
    "collapsed": false,
    "scrolled": false
   },
   "outputs": [
    {
     "name": "stdout",
     "output_type": "stream",
     "text": [
      "[[0 0 0 0 0]\n",
      " [0 0 1 0 0]\n",
      " [0 0 1 0 0]\n",
      " [0 0 1 0 0]\n",
      " [0 0 0 0 0]]\n",
      "\n",
      "[[0 0 1 0 0]\n",
      " [0 1 1 1 0]\n",
      " [0 1 2 1 0]\n",
      " [0 1 1 1 0]\n",
      " [0 0 1 0 0]]\n",
      "\n",
      "[[0 0 0 0 0]\n",
      " [0 0 0 0 0]\n",
      " [0 0 1 0 0]\n",
      " [0 0 0 0 0]\n",
      " [0 0 0 0 0]]\n"
     ]
    }
   ],
   "source": [
    "import numpy as np\n",
    "import scipy.signal\n",
    "\n",
    "\n",
    "# 1 1 1\n",
    "# 1 0 1\n",
    "# 1 1 0\n",
    "donut_kernel = np.ones((3,3),dtype=int)\n",
    "donut_kernel[1,1] = 0\n",
    "\n",
    "\n",
    " # Example array\n",
    "current_state = np.zeros((5,5),dtype=int)\n",
    "current_state[1,2] = 1\n",
    "current_state[2,2] = 1\n",
    "current_state[3,2] = 1\n",
    "\n",
    "print(current_state)\n",
    "print(\"\")\n",
    "\n",
    "num_neighbors = scipy.signal.convolve2d(current_state, plus_kernel, mode='same',boundary=\"wrap\")\n",
    "alone_mask = (current_state == 1)*(num_neighbors  < 2)\n",
    "crowd_mask = (current_state == 1)*(num_neighbors  > 3)\n",
    "spawn_mask = (current_state == 0)*(num_neighbors == 3)\n",
    "\n",
    "current_state[alone_mask] = 0\n",
    "current_state[crowd_mask] = 0\n",
    "current_state[spawn_mask] = 1\n",
    "\n",
    "print(num_neighbors)\n",
    "print(\"\")\n",
    "print(current_state)\n",
    "\n"
   ]
  },
  {
   "cell_type": "code",
   "execution_count": null,
   "metadata": {
    "collapsed": true
   },
   "outputs": [],
   "source": []
  }
 ],
 "metadata": {
  "kernelspec": {
   "display_name": "Python 3",
   "language": "python",
   "name": "python3"
  },
  "language_info": {
   "codemirror_mode": {
    "name": "ipython",
    "version": 3
   },
   "file_extension": ".py",
   "mimetype": "text/x-python",
   "name": "python",
   "nbconvert_exporter": "python",
   "pygments_lexer": "ipython3",
   "version": "3.5.2"
  }
 },
 "nbformat": 4,
 "nbformat_minor": 0
}
